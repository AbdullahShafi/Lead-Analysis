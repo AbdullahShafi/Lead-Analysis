{
 "cells": [
  {
   "cell_type": "code",
   "execution_count": 61,
   "metadata": {},
   "outputs": [],
   "source": [
    "import pandas as pd\n",
    "import numpy as np"
   ]
  },
  {
   "cell_type": "code",
   "execution_count": 62,
   "metadata": {},
   "outputs": [],
   "source": [
    "import matplotlib.pyplot as plt\n",
    "import seaborn as sns"
   ]
  },
  {
   "cell_type": "code",
   "execution_count": 63,
   "metadata": {},
   "outputs": [],
   "source": [
    "data = pd.read_excel(\"WEEKLY REPORT-JAN 3rd till JAN 8.xlsx\")[:147]"
   ]
  },
  {
   "cell_type": "code",
   "execution_count": 64,
   "metadata": {},
   "outputs": [
    {
     "data": {
      "text/html": [
       "<div>\n",
       "<style scoped>\n",
       "    .dataframe tbody tr th:only-of-type {\n",
       "        vertical-align: middle;\n",
       "    }\n",
       "\n",
       "    .dataframe tbody tr th {\n",
       "        vertical-align: top;\n",
       "    }\n",
       "\n",
       "    .dataframe thead th {\n",
       "        text-align: right;\n",
       "    }\n",
       "</style>\n",
       "<table border=\"1\" class=\"dataframe\">\n",
       "  <thead>\n",
       "    <tr style=\"text-align: right;\">\n",
       "      <th></th>\n",
       "      <th>Reference</th>\n",
       "      <th>Listing</th>\n",
       "      <th>Agent</th>\n",
       "      <th>Category</th>\n",
       "      <th>Type</th>\n",
       "      <th>Location</th>\n",
       "      <th>Price</th>\n",
       "      <th>Quality Score</th>\n",
       "      <th>Status</th>\n",
       "      <th>Bed.</th>\n",
       "      <th>sqft</th>\n",
       "      <th>Insert</th>\n",
       "      <th>Listing Status</th>\n",
       "      <th>LEADS</th>\n",
       "      <th>IMPRESSIONS</th>\n",
       "      <th>Property Page views</th>\n",
       "    </tr>\n",
       "  </thead>\n",
       "  <tbody>\n",
       "    <tr>\n",
       "      <th>142</th>\n",
       "      <td>DJ-S-4799</td>\n",
       "      <td>Featured</td>\n",
       "      <td>Zaheer Issa</td>\n",
       "      <td>Residential for Sale</td>\n",
       "      <td>Townhouse</td>\n",
       "      <td>Springs 14, The Springs...</td>\n",
       "      <td>1,850,000 AED</td>\n",
       "      <td>0.96</td>\n",
       "      <td>ONLINE</td>\n",
       "      <td>3</td>\n",
       "      <td>2246.0</td>\n",
       "      <td>2020-11-24 11:50:00</td>\n",
       "      <td>FEATURED</td>\n",
       "      <td>51.0</td>\n",
       "      <td>9934.0</td>\n",
       "      <td>287.0</td>\n",
       "    </tr>\n",
       "    <tr>\n",
       "      <th>143</th>\n",
       "      <td>DJ-S-4793</td>\n",
       "      <td>Featured</td>\n",
       "      <td>Zaheer Issa</td>\n",
       "      <td>Residential for Sale</td>\n",
       "      <td>Villa</td>\n",
       "      <td>Golf Grove, Dubai Hills...</td>\n",
       "      <td>3,050,000 AED</td>\n",
       "      <td>1.00</td>\n",
       "      <td>ONLINE</td>\n",
       "      <td>3</td>\n",
       "      <td>2911.0</td>\n",
       "      <td>2020-11-15 07:19:00</td>\n",
       "      <td>FEATURED</td>\n",
       "      <td>2.0</td>\n",
       "      <td>3383.0</td>\n",
       "      <td>60.0</td>\n",
       "    </tr>\n",
       "    <tr>\n",
       "      <th>144</th>\n",
       "      <td>DJ-S-4774</td>\n",
       "      <td>Featured</td>\n",
       "      <td>Zaheer Issa</td>\n",
       "      <td>Residential for Sale</td>\n",
       "      <td>Villa</td>\n",
       "      <td>Maple 3, Maple at Dubai...</td>\n",
       "      <td>2,250,000 AED</td>\n",
       "      <td>1.00</td>\n",
       "      <td>ONLINE</td>\n",
       "      <td>3</td>\n",
       "      <td>2266.0</td>\n",
       "      <td>2020-10-27 09:49:00</td>\n",
       "      <td>FEATURED</td>\n",
       "      <td>13.0</td>\n",
       "      <td>10136.0</td>\n",
       "      <td>150.0</td>\n",
       "    </tr>\n",
       "    <tr>\n",
       "      <th>145</th>\n",
       "      <td>DJ-S-4721</td>\n",
       "      <td>Featured</td>\n",
       "      <td>Zaheer Issa</td>\n",
       "      <td>Residential for Sale</td>\n",
       "      <td>Villa</td>\n",
       "      <td>Club Villas at Dubai Hi...</td>\n",
       "      <td>3,950,888 AED</td>\n",
       "      <td>1.00</td>\n",
       "      <td>ONLINE</td>\n",
       "      <td>3</td>\n",
       "      <td>2928.0</td>\n",
       "      <td>2020-09-15 11:38:00</td>\n",
       "      <td>FEATURED</td>\n",
       "      <td>0.0</td>\n",
       "      <td>1204.0</td>\n",
       "      <td>15.0</td>\n",
       "    </tr>\n",
       "    <tr>\n",
       "      <th>146</th>\n",
       "      <td>DJ-S-4715</td>\n",
       "      <td>Standard</td>\n",
       "      <td>Zaheer Issa</td>\n",
       "      <td>Residential for Sale</td>\n",
       "      <td>Villa</td>\n",
       "      <td>Club Villas at Dubai Hi...</td>\n",
       "      <td>3,500,000 AED</td>\n",
       "      <td>1.00</td>\n",
       "      <td>ONLINE</td>\n",
       "      <td>3</td>\n",
       "      <td>2926.0</td>\n",
       "      <td>2020-09-10 09:06:00</td>\n",
       "      <td>NaN</td>\n",
       "      <td>0.0</td>\n",
       "      <td>2323.0</td>\n",
       "      <td>16.0</td>\n",
       "    </tr>\n",
       "  </tbody>\n",
       "</table>\n",
       "</div>"
      ],
      "text/plain": [
       "     Reference   Listing        Agent              Category       Type  \\\n",
       "142  DJ-S-4799  Featured  Zaheer Issa  Residential for Sale  Townhouse   \n",
       "143  DJ-S-4793  Featured  Zaheer Issa  Residential for Sale      Villa   \n",
       "144  DJ-S-4774  Featured  Zaheer Issa  Residential for Sale      Villa   \n",
       "145  DJ-S-4721  Featured  Zaheer Issa  Residential for Sale      Villa   \n",
       "146  DJ-S-4715  Standard  Zaheer Issa  Residential for Sale      Villa   \n",
       "\n",
       "                       Location          Price  Quality Score  Status Bed.  \\\n",
       "142  Springs 14, The Springs...  1,850,000 AED           0.96  ONLINE    3   \n",
       "143  Golf Grove, Dubai Hills...  3,050,000 AED           1.00  ONLINE    3   \n",
       "144  Maple 3, Maple at Dubai...  2,250,000 AED           1.00  ONLINE    3   \n",
       "145  Club Villas at Dubai Hi...  3,950,888 AED           1.00  ONLINE    3   \n",
       "146  Club Villas at Dubai Hi...  3,500,000 AED           1.00  ONLINE    3   \n",
       "\n",
       "       sqft              Insert Listing Status  LEADS   IMPRESSIONS  \\\n",
       "142  2246.0 2020-11-24 11:50:00       FEATURED   51.0        9934.0   \n",
       "143  2911.0 2020-11-15 07:19:00       FEATURED    2.0        3383.0   \n",
       "144  2266.0 2020-10-27 09:49:00       FEATURED   13.0       10136.0   \n",
       "145  2928.0 2020-09-15 11:38:00       FEATURED    0.0        1204.0   \n",
       "146  2926.0 2020-09-10 09:06:00            NaN    0.0        2323.0   \n",
       "\n",
       "     Property Page views  \n",
       "142                287.0  \n",
       "143                 60.0  \n",
       "144                150.0  \n",
       "145                 15.0  \n",
       "146                 16.0  "
      ]
     },
     "execution_count": 64,
     "metadata": {},
     "output_type": "execute_result"
    }
   ],
   "source": [
    "data.tail()"
   ]
  },
  {
   "cell_type": "code",
   "execution_count": 65,
   "metadata": {},
   "outputs": [
    {
     "data": {
      "text/html": [
       "<div>\n",
       "<style scoped>\n",
       "    .dataframe tbody tr th:only-of-type {\n",
       "        vertical-align: middle;\n",
       "    }\n",
       "\n",
       "    .dataframe tbody tr th {\n",
       "        vertical-align: top;\n",
       "    }\n",
       "\n",
       "    .dataframe thead th {\n",
       "        text-align: right;\n",
       "    }\n",
       "</style>\n",
       "<table border=\"1\" class=\"dataframe\">\n",
       "  <thead>\n",
       "    <tr style=\"text-align: right;\">\n",
       "      <th></th>\n",
       "      <th>Quality Score</th>\n",
       "      <th>sqft</th>\n",
       "      <th>LEADS</th>\n",
       "      <th>IMPRESSIONS</th>\n",
       "      <th>Property Page views</th>\n",
       "    </tr>\n",
       "  </thead>\n",
       "  <tbody>\n",
       "    <tr>\n",
       "      <th>count</th>\n",
       "      <td>147.000000</td>\n",
       "      <td>147.000000</td>\n",
       "      <td>147.000000</td>\n",
       "      <td>147.000000</td>\n",
       "      <td>147.000000</td>\n",
       "    </tr>\n",
       "    <tr>\n",
       "      <th>mean</th>\n",
       "      <td>0.893197</td>\n",
       "      <td>2416.122449</td>\n",
       "      <td>5.639456</td>\n",
       "      <td>3403.748299</td>\n",
       "      <td>79.598639</td>\n",
       "    </tr>\n",
       "    <tr>\n",
       "      <th>std</th>\n",
       "      <td>0.101022</td>\n",
       "      <td>2217.675294</td>\n",
       "      <td>8.238687</td>\n",
       "      <td>3998.184348</td>\n",
       "      <td>101.492739</td>\n",
       "    </tr>\n",
       "    <tr>\n",
       "      <th>min</th>\n",
       "      <td>0.760000</td>\n",
       "      <td>338.000000</td>\n",
       "      <td>0.000000</td>\n",
       "      <td>109.000000</td>\n",
       "      <td>2.000000</td>\n",
       "    </tr>\n",
       "    <tr>\n",
       "      <th>25%</th>\n",
       "      <td>0.800000</td>\n",
       "      <td>1195.000000</td>\n",
       "      <td>1.000000</td>\n",
       "      <td>1046.000000</td>\n",
       "      <td>22.500000</td>\n",
       "    </tr>\n",
       "    <tr>\n",
       "      <th>50%</th>\n",
       "      <td>0.830000</td>\n",
       "      <td>1964.000000</td>\n",
       "      <td>3.000000</td>\n",
       "      <td>2191.000000</td>\n",
       "      <td>45.000000</td>\n",
       "    </tr>\n",
       "    <tr>\n",
       "      <th>75%</th>\n",
       "      <td>1.000000</td>\n",
       "      <td>2561.000000</td>\n",
       "      <td>7.500000</td>\n",
       "      <td>3892.000000</td>\n",
       "      <td>97.500000</td>\n",
       "    </tr>\n",
       "    <tr>\n",
       "      <th>max</th>\n",
       "      <td>1.000000</td>\n",
       "      <td>11500.000000</td>\n",
       "      <td>51.000000</td>\n",
       "      <td>21994.000000</td>\n",
       "      <td>684.000000</td>\n",
       "    </tr>\n",
       "  </tbody>\n",
       "</table>\n",
       "</div>"
      ],
      "text/plain": [
       "       Quality Score          sqft       LEADS   IMPRESSIONS  \\\n",
       "count     147.000000    147.000000  147.000000    147.000000   \n",
       "mean        0.893197   2416.122449    5.639456   3403.748299   \n",
       "std         0.101022   2217.675294    8.238687   3998.184348   \n",
       "min         0.760000    338.000000    0.000000    109.000000   \n",
       "25%         0.800000   1195.000000    1.000000   1046.000000   \n",
       "50%         0.830000   1964.000000    3.000000   2191.000000   \n",
       "75%         1.000000   2561.000000    7.500000   3892.000000   \n",
       "max         1.000000  11500.000000   51.000000  21994.000000   \n",
       "\n",
       "       Property Page views  \n",
       "count           147.000000  \n",
       "mean             79.598639  \n",
       "std             101.492739  \n",
       "min               2.000000  \n",
       "25%              22.500000  \n",
       "50%              45.000000  \n",
       "75%              97.500000  \n",
       "max             684.000000  "
      ]
     },
     "execution_count": 65,
     "metadata": {},
     "output_type": "execute_result"
    }
   ],
   "source": [
    "data.describe()"
   ]
  },
  {
   "cell_type": "code",
   "execution_count": 66,
   "metadata": {},
   "outputs": [
    {
     "name": "stdout",
     "output_type": "stream",
     "text": [
      "<class 'pandas.core.frame.DataFrame'>\n",
      "RangeIndex: 147 entries, 0 to 146\n",
      "Data columns (total 16 columns):\n",
      " #   Column               Non-Null Count  Dtype         \n",
      "---  ------               --------------  -----         \n",
      " 0   Reference            147 non-null    object        \n",
      " 1   Listing              147 non-null    object        \n",
      " 2   Agent                147 non-null    object        \n",
      " 3   Category             147 non-null    object        \n",
      " 4   Type                 147 non-null    object        \n",
      " 5   Location             147 non-null    object        \n",
      " 6   Price                147 non-null    object        \n",
      " 7   Quality Score        147 non-null    float64       \n",
      " 8   Status               147 non-null    object        \n",
      " 9   Bed.                 140 non-null    object        \n",
      " 10  sqft                 147 non-null    float64       \n",
      " 11  Insert               147 non-null    datetime64[ns]\n",
      " 12  Listing Status       72 non-null     object        \n",
      " 13  LEADS                147 non-null    float64       \n",
      " 14   IMPRESSIONS         147 non-null    float64       \n",
      " 15  Property Page views  147 non-null    float64       \n",
      "dtypes: datetime64[ns](1), float64(5), object(10)\n",
      "memory usage: 18.5+ KB\n"
     ]
    }
   ],
   "source": [
    "data.info()"
   ]
  },
  {
   "cell_type": "code",
   "execution_count": 67,
   "metadata": {},
   "outputs": [
    {
     "data": {
      "text/plain": [
       "Reference               0\n",
       "Listing                 0\n",
       "Agent                   0\n",
       "Category                0\n",
       "Type                    0\n",
       "Location                0\n",
       "Price                   0\n",
       "Quality Score           0\n",
       "Status                  0\n",
       "Bed.                    7\n",
       "sqft                    0\n",
       "Insert                  0\n",
       "Listing Status         75\n",
       "LEADS                   0\n",
       " IMPRESSIONS            0\n",
       "Property Page views     0\n",
       "dtype: int64"
      ]
     },
     "execution_count": 67,
     "metadata": {},
     "output_type": "execute_result"
    }
   ],
   "source": [
    "data.isna().sum()"
   ]
  },
  {
   "cell_type": "code",
   "execution_count": 68,
   "metadata": {},
   "outputs": [
    {
     "data": {
      "text/plain": [
       "array(['Abdul Sohail Syed', 'Adil Ismail', 'Affan', 'Ahmad El Ali',\n",
       "       'Ahmed Raza', 'Anjana Roka', 'Aslam Hussein', 'Balazs',\n",
       "       'Hiten Sampat', 'Ibrahim Magdi', 'Irfaan Kasimali',\n",
       "       'Jihane El Aloui', 'JOVY', 'Luisa Ruggiero', 'Ly Nguyen',\n",
       "       'Raj Kumar', 'Saiqa Amir', 'Subhan Butt', 'Yuliya', 'Zaheer Issa'],\n",
       "      dtype=object)"
      ]
     },
     "execution_count": 68,
     "metadata": {},
     "output_type": "execute_result"
    }
   ],
   "source": [
    "data['Agent'].unique()"
   ]
  },
  {
   "cell_type": "code",
   "execution_count": 69,
   "metadata": {},
   "outputs": [
    {
     "data": {
      "text/plain": [
       "20"
      ]
     },
     "execution_count": 69,
     "metadata": {},
     "output_type": "execute_result"
    }
   ],
   "source": [
    "len(data['Agent'].unique())"
   ]
  },
  {
   "cell_type": "code",
   "execution_count": 70,
   "metadata": {},
   "outputs": [],
   "source": [
    "#agent_num = 0\n",
    "#for i in data['Agent'].unique():\n",
    "#    print(i)\n",
    "#    agent_num += 1\n",
    "#    sns.lineplot(x=data[data['Agent'] == i],y=data['LEADS'])"
   ]
  },
  {
   "cell_type": "code",
   "execution_count": 71,
   "metadata": {},
   "outputs": [],
   "source": [
    "data_of_agents = pd.DataFrame(columns=['agents','leads'])"
   ]
  },
  {
   "cell_type": "code",
   "execution_count": 72,
   "metadata": {},
   "outputs": [],
   "source": [
    "data_of_agents['agents'] = data['Agent']\n",
    "data_of_agents['leads'] = data['LEADS']"
   ]
  },
  {
   "cell_type": "code",
   "execution_count": 73,
   "metadata": {},
   "outputs": [
    {
     "data": {
      "text/html": [
       "<div>\n",
       "<style scoped>\n",
       "    .dataframe tbody tr th:only-of-type {\n",
       "        vertical-align: middle;\n",
       "    }\n",
       "\n",
       "    .dataframe tbody tr th {\n",
       "        vertical-align: top;\n",
       "    }\n",
       "\n",
       "    .dataframe thead th {\n",
       "        text-align: right;\n",
       "    }\n",
       "</style>\n",
       "<table border=\"1\" class=\"dataframe\">\n",
       "  <thead>\n",
       "    <tr style=\"text-align: right;\">\n",
       "      <th></th>\n",
       "      <th>agents</th>\n",
       "      <th>leads</th>\n",
       "    </tr>\n",
       "  </thead>\n",
       "  <tbody>\n",
       "    <tr>\n",
       "      <th>0</th>\n",
       "      <td>Abdul Sohail Syed</td>\n",
       "      <td>2.0</td>\n",
       "    </tr>\n",
       "    <tr>\n",
       "      <th>1</th>\n",
       "      <td>Abdul Sohail Syed</td>\n",
       "      <td>1.0</td>\n",
       "    </tr>\n",
       "    <tr>\n",
       "      <th>2</th>\n",
       "      <td>Abdul Sohail Syed</td>\n",
       "      <td>34.0</td>\n",
       "    </tr>\n",
       "    <tr>\n",
       "      <th>3</th>\n",
       "      <td>Abdul Sohail Syed</td>\n",
       "      <td>41.0</td>\n",
       "    </tr>\n",
       "    <tr>\n",
       "      <th>4</th>\n",
       "      <td>Abdul Sohail Syed</td>\n",
       "      <td>11.0</td>\n",
       "    </tr>\n",
       "  </tbody>\n",
       "</table>\n",
       "</div>"
      ],
      "text/plain": [
       "              agents  leads\n",
       "0  Abdul Sohail Syed    2.0\n",
       "1  Abdul Sohail Syed    1.0\n",
       "2  Abdul Sohail Syed   34.0\n",
       "3  Abdul Sohail Syed   41.0\n",
       "4  Abdul Sohail Syed   11.0"
      ]
     },
     "execution_count": 73,
     "metadata": {},
     "output_type": "execute_result"
    }
   ],
   "source": [
    "data_of_agents.head()"
   ]
  },
  {
   "cell_type": "code",
   "execution_count": 74,
   "metadata": {},
   "outputs": [
    {
     "data": {
      "text/plain": [
       "array(['Abdul Sohail Syed', 'Adil Ismail', 'Affan', 'Ahmad El Ali',\n",
       "       'Ahmed Raza', 'Anjana Roka', 'Aslam Hussein', 'Balazs',\n",
       "       'Hiten Sampat', 'Ibrahim Magdi', 'Irfaan Kasimali',\n",
       "       'Jihane El Aloui', 'JOVY', 'Luisa Ruggiero', 'Ly Nguyen',\n",
       "       'Raj Kumar', 'Saiqa Amir', 'Subhan Butt', 'Yuliya', 'Zaheer Issa'],\n",
       "      dtype=object)"
      ]
     },
     "execution_count": 74,
     "metadata": {},
     "output_type": "execute_result"
    }
   ],
   "source": [
    "data_of_agents['agents'].unique()"
   ]
  },
  {
   "cell_type": "code",
   "execution_count": 75,
   "metadata": {},
   "outputs": [
    {
     "data": {
      "text/html": [
       "<div>\n",
       "<style scoped>\n",
       "    .dataframe tbody tr th:only-of-type {\n",
       "        vertical-align: middle;\n",
       "    }\n",
       "\n",
       "    .dataframe tbody tr th {\n",
       "        vertical-align: top;\n",
       "    }\n",
       "\n",
       "    .dataframe thead th {\n",
       "        text-align: right;\n",
       "    }\n",
       "</style>\n",
       "<table border=\"1\" class=\"dataframe\">\n",
       "  <thead>\n",
       "    <tr style=\"text-align: right;\">\n",
       "      <th></th>\n",
       "      <th>agents</th>\n",
       "      <th>leads</th>\n",
       "    </tr>\n",
       "  </thead>\n",
       "  <tbody>\n",
       "    <tr>\n",
       "      <th>0</th>\n",
       "      <td>Abdul Sohail Syed</td>\n",
       "      <td>2.0</td>\n",
       "    </tr>\n",
       "    <tr>\n",
       "      <th>1</th>\n",
       "      <td>Abdul Sohail Syed</td>\n",
       "      <td>1.0</td>\n",
       "    </tr>\n",
       "    <tr>\n",
       "      <th>2</th>\n",
       "      <td>Abdul Sohail Syed</td>\n",
       "      <td>34.0</td>\n",
       "    </tr>\n",
       "    <tr>\n",
       "      <th>3</th>\n",
       "      <td>Abdul Sohail Syed</td>\n",
       "      <td>41.0</td>\n",
       "    </tr>\n",
       "    <tr>\n",
       "      <th>4</th>\n",
       "      <td>Abdul Sohail Syed</td>\n",
       "      <td>11.0</td>\n",
       "    </tr>\n",
       "    <tr>\n",
       "      <th>5</th>\n",
       "      <td>Abdul Sohail Syed</td>\n",
       "      <td>11.0</td>\n",
       "    </tr>\n",
       "    <tr>\n",
       "      <th>6</th>\n",
       "      <td>Abdul Sohail Syed</td>\n",
       "      <td>19.0</td>\n",
       "    </tr>\n",
       "    <tr>\n",
       "      <th>7</th>\n",
       "      <td>Abdul Sohail Syed</td>\n",
       "      <td>10.0</td>\n",
       "    </tr>\n",
       "    <tr>\n",
       "      <th>8</th>\n",
       "      <td>Abdul Sohail Syed</td>\n",
       "      <td>3.0</td>\n",
       "    </tr>\n",
       "    <tr>\n",
       "      <th>9</th>\n",
       "      <td>Abdul Sohail Syed</td>\n",
       "      <td>10.0</td>\n",
       "    </tr>\n",
       "    <tr>\n",
       "      <th>10</th>\n",
       "      <td>Abdul Sohail Syed</td>\n",
       "      <td>11.0</td>\n",
       "    </tr>\n",
       "    <tr>\n",
       "      <th>11</th>\n",
       "      <td>Abdul Sohail Syed</td>\n",
       "      <td>20.0</td>\n",
       "    </tr>\n",
       "  </tbody>\n",
       "</table>\n",
       "</div>"
      ],
      "text/plain": [
       "               agents  leads\n",
       "0   Abdul Sohail Syed    2.0\n",
       "1   Abdul Sohail Syed    1.0\n",
       "2   Abdul Sohail Syed   34.0\n",
       "3   Abdul Sohail Syed   41.0\n",
       "4   Abdul Sohail Syed   11.0\n",
       "5   Abdul Sohail Syed   11.0\n",
       "6   Abdul Sohail Syed   19.0\n",
       "7   Abdul Sohail Syed   10.0\n",
       "8   Abdul Sohail Syed    3.0\n",
       "9   Abdul Sohail Syed   10.0\n",
       "10  Abdul Sohail Syed   11.0\n",
       "11  Abdul Sohail Syed   20.0"
      ]
     },
     "execution_count": 75,
     "metadata": {},
     "output_type": "execute_result"
    }
   ],
   "source": [
    "data_of_agents[data_of_agents['agents'] == 'Abdul Sohail Syed']"
   ]
  },
  {
   "cell_type": "code",
   "execution_count": 95,
   "metadata": {},
   "outputs": [
    {
     "data": {
      "image/png": "[encoded data removed]",
      "text/plain": [
       "<Figure size 432x288 with 1 Axes>"
      ]
     },
     "metadata": {
      "needs_background": "light"
     },
     "output_type": "display_data"
    },
    {
     "data": {
      "text/plain": [
       "<Figure size 2400x1600 with 0 Axes>"
      ]
     },
     "metadata": {},
     "output_type": "display_data"
    }
   ],
   "source": [
    "plt_of_lead.plot(kind='bar')\n",
    "plt.figure(figsize=(6,4),dpi=400)\n",
    "plt.legend\n",
    "plt.show()"
   ]
  },
  {
   "cell_type": "code",
   "execution_count": 96,
   "metadata": {},
   "outputs": [],
   "source": [
    "plt_of_impression = data[' IMPRESSIONS'].groupby(data['Agent']).median().sort_values()"
   ]
  },
  {
   "cell_type": "code",
   "execution_count": 124,
   "metadata": {},
   "outputs": [
    {
     "data": {
      "image/png": "[encoded data removed]",
      "text/plain": [
       "<Figure size 432x288 with 1 Axes>"
      ]
     },
     "metadata": {
      "needs_background": "light"
     },
     "output_type": "display_data"
    },
    {
     "data": {
      "text/plain": [
       "<Figure size 2400x1600 with 0 Axes>"
      ]
     },
     "metadata": {},
     "output_type": "display_data"
    }
   ],
   "source": [
    "plt_of_impression.plot(kind='bar')\n",
    "plt.figure(figsize=(6,4),dpi=400)\n",
    "plt.legend\n",
    "plt.show()"
   ]
  },
  {
   "cell_type": "code",
   "execution_count": 98,
   "metadata": {},
   "outputs": [],
   "source": [
    "plt_of_views = data['Property Page views'].groupby(data['Agent']).median().sort_values()"
   ]
  },
  {
   "cell_type": "code",
   "execution_count": 99,
   "metadata": {},
   "outputs": [
    {
     "data": {
      "image/png": "[encoded data removed]",
      "text/plain": [
       "<Figure size 432x288 with 1 Axes>"
      ]
     },
     "metadata": {
      "needs_background": "light"
     },
     "output_type": "display_data"
    },
    {
     "data": {
      "text/plain": [
       "<Figure size 2400x1600 with 0 Axes>"
      ]
     },
     "metadata": {},
     "output_type": "display_data"
    }
   ],
   "source": [
    "plt_of_views.plot(kind='bar')\n",
    "plt.figure(figsize=(6,4),dpi=400)\n",
    "plt.legend\n",
    "plt.show()"
   ]
  },
  {
   "cell_type": "code",
   "execution_count": 107,
   "metadata": {},
   "outputs": [],
   "source": [
    "#data['Price'].str.extract(r'\\d+')"
   ]
  },
  {
   "cell_type": "code",
   "execution_count": 113,
   "metadata": {},
   "outputs": [],
   "source": [
    "import re\n",
    "price_series = []\n",
    "for i in data['Price']:\n",
    "    num = re.findall('\\d+',i)\n",
    "    k = ''\n",
    "    for j in num:\n",
    "        k += j\n",
    "    if len(k) > 1:\n",
    "        price_series.append(k)\n",
    "    else:\n",
    "        price_series.append(np.nan)\n",
    "data['Price'] = pd.to_numeric(pd.Series(price_series))"
   ]
  },
  {
   "cell_type": "code",
   "execution_count": 114,
   "metadata": {},
   "outputs": [
    {
     "data": {
      "text/plain": [
       "0"
      ]
     },
     "execution_count": 114,
     "metadata": {},
     "output_type": "execute_result"
    }
   ],
   "source": [
    "data['Price'].isna().sum()"
   ]
  },
  {
   "cell_type": "code",
   "execution_count": 115,
   "metadata": {},
   "outputs": [
    {
     "data": {
      "text/plain": [
       "<AxesSubplot:>"
      ]
     },
     "execution_count": 115,
     "metadata": {},
     "output_type": "execute_result"
    },
    {
     "data": {
      "image/png": "[encoded data removed]",
      "text/plain": [
       "<Figure size 432x288 with 2 Axes>"
      ]
     },
     "metadata": {
      "needs_background": "light"
     },
     "output_type": "display_data"
    }
   ],
   "source": [
    "sns.heatmap(data.corr(),annot=True)"
   ]
  },
  {
   "cell_type": "code",
   "execution_count": 116,
   "metadata": {},
   "outputs": [
    {
     "data": {
      "text/plain": [
       "Index(['Reference', 'Listing', 'Agent', 'Category', 'Type', 'Location',\n",
       "       'Price', 'Quality Score', 'Status', 'Bed.', 'sqft', 'Insert',\n",
       "       'Listing Status', 'LEADS', ' IMPRESSIONS', 'Property Page views'],\n",
       "      dtype='object')"
      ]
     },
     "execution_count": 116,
     "metadata": {},
     "output_type": "execute_result"
    }
   ],
   "source": [
    "data.columns"
   ]
  },
  {
   "cell_type": "code",
   "execution_count": 118,
   "metadata": {},
   "outputs": [
    {
     "data": {
      "text/plain": [
       "array(['Featured', 'Standard', 'Premium', 'Edit'], dtype=object)"
      ]
     },
     "execution_count": 118,
     "metadata": {},
     "output_type": "execute_result"
    }
   ],
   "source": [
    "data['Listing'].unique()"
   ]
  },
  {
   "cell_type": "code",
   "execution_count": 119,
   "metadata": {},
   "outputs": [
    {
     "data": {
      "text/html": [
       "<div>\n",
       "<style scoped>\n",
       "    .dataframe tbody tr th:only-of-type {\n",
       "        vertical-align: middle;\n",
       "    }\n",
       "\n",
       "    .dataframe tbody tr th {\n",
       "        vertical-align: top;\n",
       "    }\n",
       "\n",
       "    .dataframe thead th {\n",
       "        text-align: right;\n",
       "    }\n",
       "</style>\n",
       "<table border=\"1\" class=\"dataframe\">\n",
       "  <thead>\n",
       "    <tr style=\"text-align: right;\">\n",
       "      <th></th>\n",
       "      <th>Reference</th>\n",
       "      <th>Listing</th>\n",
       "      <th>Agent</th>\n",
       "      <th>Category</th>\n",
       "      <th>Type</th>\n",
       "      <th>Location</th>\n",
       "      <th>Price</th>\n",
       "      <th>Quality Score</th>\n",
       "      <th>Status</th>\n",
       "      <th>Bed.</th>\n",
       "      <th>sqft</th>\n",
       "      <th>Insert</th>\n",
       "      <th>Listing Status</th>\n",
       "      <th>LEADS</th>\n",
       "      <th>IMPRESSIONS</th>\n",
       "      <th>Property Page views</th>\n",
       "    </tr>\n",
       "  </thead>\n",
       "  <tbody>\n",
       "    <tr>\n",
       "      <th>0</th>\n",
       "      <td>DJ-S-4730</td>\n",
       "      <td>Featured</td>\n",
       "      <td>Abdul Sohail Syed</td>\n",
       "      <td>Commercial for Sale</td>\n",
       "      <td>Office Space</td>\n",
       "      <td>Jumeirah Business Centr...</td>\n",
       "      <td>900000</td>\n",
       "      <td>1.00</td>\n",
       "      <td>ONLINE</td>\n",
       "      <td>NaN</td>\n",
       "      <td>1023.0</td>\n",
       "      <td>2020-09-20 08:38:00</td>\n",
       "      <td>FEATURED</td>\n",
       "      <td>2.0</td>\n",
       "      <td>19418.0</td>\n",
       "      <td>50.0</td>\n",
       "    </tr>\n",
       "    <tr>\n",
       "      <th>1</th>\n",
       "      <td>DJ-S-4706</td>\n",
       "      <td>Standard</td>\n",
       "      <td>Abdul Sohail Syed</td>\n",
       "      <td>Residential for Sale</td>\n",
       "      <td>Villa</td>\n",
       "      <td>Juniper, Akoya, Dubai</td>\n",
       "      <td>1550000</td>\n",
       "      <td>0.76</td>\n",
       "      <td>ONLINE</td>\n",
       "      <td>4</td>\n",
       "      <td>1881.0</td>\n",
       "      <td>2020-08-31 08:03:00</td>\n",
       "      <td>NaN</td>\n",
       "      <td>1.0</td>\n",
       "      <td>2946.0</td>\n",
       "      <td>45.0</td>\n",
       "    </tr>\n",
       "    <tr>\n",
       "      <th>2</th>\n",
       "      <td>DJ-S-4681</td>\n",
       "      <td>Standard</td>\n",
       "      <td>Abdul Sohail Syed</td>\n",
       "      <td>Residential for Sale</td>\n",
       "      <td>Villa</td>\n",
       "      <td>Casa Dora, Serena, Dubai</td>\n",
       "      <td>1250000</td>\n",
       "      <td>0.80</td>\n",
       "      <td>ONLINE</td>\n",
       "      <td>3</td>\n",
       "      <td>2152.0</td>\n",
       "      <td>2020-07-28 09:17:00</td>\n",
       "      <td>NaN</td>\n",
       "      <td>34.0</td>\n",
       "      <td>5100.0</td>\n",
       "      <td>260.0</td>\n",
       "    </tr>\n",
       "    <tr>\n",
       "      <th>3</th>\n",
       "      <td>DJ-S-4676</td>\n",
       "      <td>Standard</td>\n",
       "      <td>Abdul Sohail Syed</td>\n",
       "      <td>Residential for Sale</td>\n",
       "      <td>Villa</td>\n",
       "      <td>Hayat Townhouses, Town ...</td>\n",
       "      <td>1450000</td>\n",
       "      <td>1.00</td>\n",
       "      <td>ONLINE</td>\n",
       "      <td>4</td>\n",
       "      <td>2423.0</td>\n",
       "      <td>2020-07-27 11:46:00</td>\n",
       "      <td>NaN</td>\n",
       "      <td>41.0</td>\n",
       "      <td>8076.0</td>\n",
       "      <td>340.0</td>\n",
       "    </tr>\n",
       "    <tr>\n",
       "      <th>4</th>\n",
       "      <td>DJ-S-4618</td>\n",
       "      <td>Standard</td>\n",
       "      <td>Abdul Sohail Syed</td>\n",
       "      <td>Residential for Sale</td>\n",
       "      <td>Villa</td>\n",
       "      <td>Arabella Townhouses 2, ...</td>\n",
       "      <td>1200000</td>\n",
       "      <td>0.80</td>\n",
       "      <td>ONLINE</td>\n",
       "      <td>2</td>\n",
       "      <td>1669.0</td>\n",
       "      <td>2020-06-03 07:34:00</td>\n",
       "      <td>NaN</td>\n",
       "      <td>11.0</td>\n",
       "      <td>5308.0</td>\n",
       "      <td>257.0</td>\n",
       "    </tr>\n",
       "    <tr>\n",
       "      <th>5</th>\n",
       "      <td>DJ-S-4598</td>\n",
       "      <td>Featured</td>\n",
       "      <td>Abdul Sohail Syed</td>\n",
       "      <td>Residential for Sale</td>\n",
       "      <td>Villa</td>\n",
       "      <td>Sidra Villas III, Sidra...</td>\n",
       "      <td>3500000</td>\n",
       "      <td>1.00</td>\n",
       "      <td>ONLINE</td>\n",
       "      <td>4</td>\n",
       "      <td>3533.0</td>\n",
       "      <td>2020-05-06 09:42:00</td>\n",
       "      <td>FEATURED</td>\n",
       "      <td>11.0</td>\n",
       "      <td>5846.0</td>\n",
       "      <td>110.0</td>\n",
       "    </tr>\n",
       "    <tr>\n",
       "      <th>6</th>\n",
       "      <td>DJ-S-4558</td>\n",
       "      <td>Standard</td>\n",
       "      <td>Abdul Sohail Syed</td>\n",
       "      <td>Residential for Sale</td>\n",
       "      <td>Villa</td>\n",
       "      <td>Arabella Townhouses 2, ...</td>\n",
       "      <td>1800000</td>\n",
       "      <td>0.80</td>\n",
       "      <td>ONLINE</td>\n",
       "      <td>3</td>\n",
       "      <td>3074.0</td>\n",
       "      <td>2020-03-12 07:15:00</td>\n",
       "      <td>NaN</td>\n",
       "      <td>19.0</td>\n",
       "      <td>2289.0</td>\n",
       "      <td>143.0</td>\n",
       "    </tr>\n",
       "    <tr>\n",
       "      <th>7</th>\n",
       "      <td>DJ-S-4516</td>\n",
       "      <td>Featured</td>\n",
       "      <td>Abdul Sohail Syed</td>\n",
       "      <td>Residential for Sale</td>\n",
       "      <td>Townhouse</td>\n",
       "      <td>Casa Dora, Serena, Dubai</td>\n",
       "      <td>1450000</td>\n",
       "      <td>1.00</td>\n",
       "      <td>ONLINE</td>\n",
       "      <td>3</td>\n",
       "      <td>3240.0</td>\n",
       "      <td>2019-12-28 12:23:00</td>\n",
       "      <td>FEATURED</td>\n",
       "      <td>10.0</td>\n",
       "      <td>3839.0</td>\n",
       "      <td>103.0</td>\n",
       "    </tr>\n",
       "    <tr>\n",
       "      <th>8</th>\n",
       "      <td>DJ-S-4512</td>\n",
       "      <td>Standard</td>\n",
       "      <td>Abdul Sohail Syed</td>\n",
       "      <td>Residential for Sale</td>\n",
       "      <td>Apartment</td>\n",
       "      <td>Afnan 5, Midtown, Dubai...</td>\n",
       "      <td>900000</td>\n",
       "      <td>0.80</td>\n",
       "      <td>ONLINE</td>\n",
       "      <td>2</td>\n",
       "      <td>1103.0</td>\n",
       "      <td>2019-12-23 12:42:00</td>\n",
       "      <td>NaN</td>\n",
       "      <td>3.0</td>\n",
       "      <td>1656.0</td>\n",
       "      <td>33.0</td>\n",
       "    </tr>\n",
       "    <tr>\n",
       "      <th>9</th>\n",
       "      <td>DJ-S-4500</td>\n",
       "      <td>Standard</td>\n",
       "      <td>Abdul Sohail Syed</td>\n",
       "      <td>Residential for Sale</td>\n",
       "      <td>Townhouse</td>\n",
       "      <td>Claret, Akoya, Dubai</td>\n",
       "      <td>900000</td>\n",
       "      <td>0.76</td>\n",
       "      <td>ONLINE</td>\n",
       "      <td>3</td>\n",
       "      <td>1881.0</td>\n",
       "      <td>2019-12-16 10:57:00</td>\n",
       "      <td>NaN</td>\n",
       "      <td>10.0</td>\n",
       "      <td>3787.0</td>\n",
       "      <td>75.0</td>\n",
       "    </tr>\n",
       "  </tbody>\n",
       "</table>\n",
       "</div>"
      ],
      "text/plain": [
       "   Reference   Listing              Agent              Category          Type  \\\n",
       "0  DJ-S-4730  Featured  Abdul Sohail Syed   Commercial for Sale  Office Space   \n",
       "1  DJ-S-4706  Standard  Abdul Sohail Syed  Residential for Sale         Villa   \n",
       "2  DJ-S-4681  Standard  Abdul Sohail Syed  Residential for Sale         Villa   \n",
       "3  DJ-S-4676  Standard  Abdul Sohail Syed  Residential for Sale         Villa   \n",
       "4  DJ-S-4618  Standard  Abdul Sohail Syed  Residential for Sale         Villa   \n",
       "5  DJ-S-4598  Featured  Abdul Sohail Syed  Residential for Sale         Villa   \n",
       "6  DJ-S-4558  Standard  Abdul Sohail Syed  Residential for Sale         Villa   \n",
       "7  DJ-S-4516  Featured  Abdul Sohail Syed  Residential for Sale     Townhouse   \n",
       "8  DJ-S-4512  Standard  Abdul Sohail Syed  Residential for Sale     Apartment   \n",
       "9  DJ-S-4500  Standard  Abdul Sohail Syed  Residential for Sale     Townhouse   \n",
       "\n",
       "                     Location    Price  Quality Score  Status Bed.    sqft  \\\n",
       "0  Jumeirah Business Centr...   900000           1.00  ONLINE  NaN  1023.0   \n",
       "1       Juniper, Akoya, Dubai  1550000           0.76  ONLINE    4  1881.0   \n",
       "2    Casa Dora, Serena, Dubai  1250000           0.80  ONLINE    3  2152.0   \n",
       "3  Hayat Townhouses, Town ...  1450000           1.00  ONLINE    4  2423.0   \n",
       "4  Arabella Townhouses 2, ...  1200000           0.80  ONLINE    2  1669.0   \n",
       "5  Sidra Villas III, Sidra...  3500000           1.00  ONLINE    4  3533.0   \n",
       "6  Arabella Townhouses 2, ...  1800000           0.80  ONLINE    3  3074.0   \n",
       "7    Casa Dora, Serena, Dubai  1450000           1.00  ONLINE    3  3240.0   \n",
       "8  Afnan 5, Midtown, Dubai...   900000           0.80  ONLINE    2  1103.0   \n",
       "9        Claret, Akoya, Dubai   900000           0.76  ONLINE    3  1881.0   \n",
       "\n",
       "               Insert Listing Status  LEADS   IMPRESSIONS  Property Page views  \n",
       "0 2020-09-20 08:38:00       FEATURED    2.0       19418.0                 50.0  \n",
       "1 2020-08-31 08:03:00            NaN    1.0        2946.0                 45.0  \n",
       "2 2020-07-28 09:17:00            NaN   34.0        5100.0                260.0  \n",
       "3 2020-07-27 11:46:00            NaN   41.0        8076.0                340.0  \n",
       "4 2020-06-03 07:34:00            NaN   11.0        5308.0                257.0  \n",
       "5 2020-05-06 09:42:00       FEATURED   11.0        5846.0                110.0  \n",
       "6 2020-03-12 07:15:00            NaN   19.0        2289.0                143.0  \n",
       "7 2019-12-28 12:23:00       FEATURED   10.0        3839.0                103.0  \n",
       "8 2019-12-23 12:42:00            NaN    3.0        1656.0                 33.0  \n",
       "9 2019-12-16 10:57:00            NaN   10.0        3787.0                 75.0  "
      ]
     },
     "execution_count": 119,
     "metadata": {},
     "output_type": "execute_result"
    }
   ],
   "source": [
    "data.head(10)"
   ]
  },
  {
   "cell_type": "code",
   "execution_count": null,
   "metadata": {},
   "outputs": [],
   "source": []
  }
 ],
 "metadata": {
  "kernelspec": {
   "display_name": "Python 3",
   "language": "python",
   "name": "python3"
  },
  "language_info": {
   "codemirror_mode": {
    "name": "ipython",
    "version": 3
   },
   "file_extension": ".py",
   "mimetype": "text/x-python",
   "name": "python",
   "nbconvert_exporter": "python",
   "pygments_lexer": "ipython3",
   "version": "3.8.5"
  }
 },
 "nbformat": 4,
 "nbformat_minor": 4
}
